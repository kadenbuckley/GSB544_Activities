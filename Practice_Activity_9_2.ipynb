{
 "cells": [
  {
   "cell_type": "raw",
   "metadata": {},
   "source": [
    "---\n",
    "title: \"Practice Activity 9.1: Decision Boundaries\"\n",
    "author: \"Kaden Buckley\"\n",
    "date: today\n",
    "self-contained: true\n",
    "code fold: false\n",
    "backgroundcolor: whitesmoke\n",
    "font-family: serif;\n",
    "fontcolor: black\n",
    "format:\n",
    "    html:\n",
    "        theme: yeti\n",
    "---"
   ]
  },
  {
   "cell_type": "markdown",
   "metadata": {
    "id": "P_N9XP2-04VH"
   },
   "source": [
    "\n",
    "Our dataset consists of clinical data from patients who entered the hospital complaining of chest pain (\"angina\") during exercise.  The information collected includes:\n",
    "\n",
    "* `age` : Age of the patient\n",
    "\n",
    "* `sex` : Sex of the patient\n",
    "\n",
    "* `cp` : Chest Pain type\n",
    "\n",
    "    + Value 0: asymptomatic\n",
    "    + Value 1: typical angina\n",
    "    + Value 2: atypical angina\n",
    "    + Value 3: non-anginal pain\n",
    "   \n",
    "    \n",
    "* `trtbps` : resting blood pressure (in mm Hg)\n",
    "\n",
    "* `chol` : cholesterol in mg/dl fetched via BMI sensor\n",
    "\n",
    "* `restecg` : resting electrocardiographic results\n",
    "\n",
    "    + Value 0: normal\n",
    "    + Value 1: having ST-T wave abnormality (T wave inversions and/or ST elevation or depression of > 0.05 mV)\n",
    "    + Value 2: showing probable or definite left ventricular hypertrophy by Estes' criteria\n",
    "\n",
    "* `thalach` : maximum heart rate achieved during exercise\n",
    "\n",
    "* `output` : the doctor's diagnosis of whether the patient is at risk for a heart attack\n",
    "    + 0 = not at risk of heart attack\n",
    "    + 1 = at risk of heart attack"
   ]
  },
  {
   "cell_type": "code",
   "execution_count": 122,
   "metadata": {
    "id": "tZmjmGGQ1CaN"
   },
   "outputs": [],
   "source": [
    "## library imports here\n",
    "import pandas as pd\n",
    "import numpy as np\n",
    "from sklearn.pipeline import Pipeline\n",
    "from sklearn.neighbors import KNeighborsClassifier\n",
    "from sklearn.tree import DecisionTreeClassifier\n",
    "from sklearn.linear_model import LogisticRegression\n",
    "from sklearn.model_selection import train_test_split, cross_val_score\n",
    "from sklearn.compose import make_column_selector, ColumnTransformer\n",
    "from sklearn.preprocessing import StandardScaler, OneHotEncoder, PolynomialFeatures\n",
    "from sklearn.discriminant_analysis import LinearDiscriminantAnalysis\n",
    "from plotnine import *\n",
    "from sklearn.metrics import r2_score, mean_squared_error, confusion_matrix, classification_report, roc_auc_score, roc_curve, auc, precision_score, recall_score\n",
    "from sklearn.model_selection import GridSearchCV\n",
    "import matplotlib.pyplot as plt\n",
    "from sklearn.tree import plot_tree"
   ]
  },
  {
   "cell_type": "code",
   "execution_count": 123,
   "metadata": {
    "id": "ghXbwhv600-S"
   },
   "outputs": [],
   "source": [
    "heart_data = pd.read_csv(\"https://www.dropbox.com/s/aohbr6yb9ifmc8w/heart_attack.csv?dl=1\")"
   ]
  },
  {
   "cell_type": "markdown",
   "metadata": {
    "id": "OCX180v41bhe"
   },
   "source": [
    "## Q1: Natural Multiclass Models\n",
    "\n",
    "Fit a multiclass KNN, Decision Tree, and LDA for the heart disease data; this time predicting the type of chest pain (categories 0 - 3) that a patient experiences.  For the decision tree, plot the fitted tree, and interpret the first couple splits.\n"
   ]
  },
  {
   "cell_type": "code",
   "execution_count": 124,
   "metadata": {
    "id": "WJsMBCZh1glq"
   },
   "outputs": [],
   "source": [
    "# Select features and target\n",
    "X = heart_data.drop(\"cp\", axis = 1)\n",
    "y = heart_data['cp']\n",
    "\n",
    "# Splitting the data into training and testing sets\n",
    "#X_train, X_test, y_train, y_test = train_test_split(X, y, test_size=0.6, random_state=1)"
   ]
  },
  {
   "cell_type": "code",
   "execution_count": 125,
   "metadata": {},
   "outputs": [],
   "source": [
    "ct = ColumnTransformer(\n",
    "    [\n",
    "        (\"dummify\", OneHotEncoder(sparse_output=False, handle_unknown='ignore'), \n",
    "         make_column_selector(dtype_include=['category', 'object']))      \n",
    "    ],\n",
    "    remainder=\"passthrough\"\n",
    ")"
   ]
  },
  {
   "cell_type": "markdown",
   "metadata": {},
   "source": [
    "### Multiclass KNN"
   ]
  },
  {
   "cell_type": "code",
   "execution_count": 126,
   "metadata": {},
   "outputs": [
    {
     "data": {
      "text/html": [
       "<div>\n",
       "<style scoped>\n",
       "    .dataframe tbody tr th:only-of-type {\n",
       "        vertical-align: middle;\n",
       "    }\n",
       "\n",
       "    .dataframe tbody tr th {\n",
       "        vertical-align: top;\n",
       "    }\n",
       "\n",
       "    .dataframe thead th {\n",
       "        text-align: right;\n",
       "    }\n",
       "</style>\n",
       "<table border=\"1\" class=\"dataframe\">\n",
       "  <thead>\n",
       "    <tr style=\"text-align: right;\">\n",
       "      <th></th>\n",
       "      <th>k values</th>\n",
       "      <th>Accuracy scores</th>\n",
       "    </tr>\n",
       "  </thead>\n",
       "  <tbody>\n",
       "    <tr>\n",
       "      <th>4</th>\n",
       "      <td>30</td>\n",
       "      <td>0.490909</td>\n",
       "    </tr>\n",
       "    <tr>\n",
       "      <th>6</th>\n",
       "      <td>40</td>\n",
       "      <td>0.483502</td>\n",
       "    </tr>\n",
       "    <tr>\n",
       "      <th>9</th>\n",
       "      <td>70</td>\n",
       "      <td>0.483434</td>\n",
       "    </tr>\n",
       "    <tr>\n",
       "      <th>5</th>\n",
       "      <td>35</td>\n",
       "      <td>0.479798</td>\n",
       "    </tr>\n",
       "    <tr>\n",
       "      <th>8</th>\n",
       "      <td>60</td>\n",
       "      <td>0.472458</td>\n",
       "    </tr>\n",
       "    <tr>\n",
       "      <th>10</th>\n",
       "      <td>80</td>\n",
       "      <td>0.472391</td>\n",
       "    </tr>\n",
       "    <tr>\n",
       "      <th>3</th>\n",
       "      <td>25</td>\n",
       "      <td>0.465185</td>\n",
       "    </tr>\n",
       "    <tr>\n",
       "      <th>0</th>\n",
       "      <td>10</td>\n",
       "      <td>0.457912</td>\n",
       "    </tr>\n",
       "    <tr>\n",
       "      <th>7</th>\n",
       "      <td>50</td>\n",
       "      <td>0.457778</td>\n",
       "    </tr>\n",
       "    <tr>\n",
       "      <th>2</th>\n",
       "      <td>20</td>\n",
       "      <td>0.454007</td>\n",
       "    </tr>\n",
       "    <tr>\n",
       "      <th>1</th>\n",
       "      <td>15</td>\n",
       "      <td>0.428485</td>\n",
       "    </tr>\n",
       "  </tbody>\n",
       "</table>\n",
       "</div>"
      ],
      "text/plain": [
       "    k values  Accuracy scores\n",
       "4         30         0.490909\n",
       "6         40         0.483502\n",
       "9         70         0.483434\n",
       "5         35         0.479798\n",
       "8         60         0.472458\n",
       "10        80         0.472391\n",
       "3         25         0.465185\n",
       "0         10         0.457912\n",
       "7         50         0.457778\n",
       "2         20         0.454007\n",
       "1         15         0.428485"
      ]
     },
     "execution_count": 126,
     "metadata": {},
     "output_type": "execute_result"
    }
   ],
   "source": [
    "# kNN Model 1\n",
    "knn_pipeline = Pipeline(\n",
    "    steps=[\n",
    "        ('preprocessor', ct),\n",
    "        ('knn_classifier', KNeighborsClassifier())\n",
    "    ]\n",
    ")\n",
    "\n",
    "# Tune kNN Classifier Model\n",
    "# Set hyperparamters to be tested\n",
    "\n",
    "k = [10, 15, 20, 25, 30, 35, 40, 50, 60, 70, 80]\n",
    "\n",
    "k_grid = {'knn_classifier__n_neighbors': k}\n",
    "\n",
    "# Create GridSearchCV with ROC AUC scoring\n",
    "gscv = GridSearchCV(knn_pipeline, k_grid, cv=5, scoring='accuracy')\n",
    "\n",
    "gscv_fitted = gscv.fit(X, y)\n",
    "\n",
    "accuracy_scores = gscv_fitted.cv_results_['mean_test_score']\n",
    "\n",
    "knn_results_df = pd.DataFrame(data={\"k values\": k, \"Accuracy scores\": accuracy_scores})\n",
    "\n",
    "knn_results_df_sorted = knn_results_df.sort_values(by = \"Accuracy scores\", ascending = False)\n",
    "knn_results_df_sorted"
   ]
  },
  {
   "cell_type": "code",
   "execution_count": 127,
   "metadata": {},
   "outputs": [
    {
     "name": "stdout",
     "output_type": "stream",
     "text": [
      "KNN Accuracy: 0.4909090909090909\n"
     ]
    }
   ],
   "source": [
    "best_knn_pipeline = Pipeline(\n",
    "    steps=[\n",
    "        ('preprocessor', ct),\n",
    "        ('knn_classifier', KNeighborsClassifier(n_neighbors=30))\n",
    "    ]\n",
    ")\n",
    "\n",
    "# Train the pipeline\n",
    "best_knn_fitted = best_knn_pipeline.fit(X, y)\n",
    "\n",
    "#Get AUC ROC score\n",
    "knn_scores = cross_val_score(best_knn_fitted, X, y, cv=5, scoring='accuracy')\n",
    "\n",
    "knn_acc = knn_scores.mean()\n",
    "\n",
    "print(f\"KNN Accuracy: {knn_acc}\")"
   ]
  },
  {
   "cell_type": "markdown",
   "metadata": {},
   "source": [
    "### Decision Tree"
   ]
  },
  {
   "cell_type": "code",
   "execution_count": 128,
   "metadata": {},
   "outputs": [
    {
     "data": {
      "text/html": [
       "<div>\n",
       "<style scoped>\n",
       "    .dataframe tbody tr th:only-of-type {\n",
       "        vertical-align: middle;\n",
       "    }\n",
       "\n",
       "    .dataframe tbody tr th {\n",
       "        vertical-align: top;\n",
       "    }\n",
       "\n",
       "    .dataframe thead th {\n",
       "        text-align: right;\n",
       "    }\n",
       "</style>\n",
       "<table border=\"1\" class=\"dataframe\">\n",
       "  <thead>\n",
       "    <tr style=\"text-align: right;\">\n",
       "      <th></th>\n",
       "      <th>leaf values</th>\n",
       "      <th>Accuracy scores</th>\n",
       "    </tr>\n",
       "  </thead>\n",
       "  <tbody>\n",
       "    <tr>\n",
       "      <th>7</th>\n",
       "      <td>35</td>\n",
       "      <td>0.552997</td>\n",
       "    </tr>\n",
       "    <tr>\n",
       "      <th>8</th>\n",
       "      <td>45</td>\n",
       "      <td>0.549293</td>\n",
       "    </tr>\n",
       "    <tr>\n",
       "      <th>9</th>\n",
       "      <td>55</td>\n",
       "      <td>0.549293</td>\n",
       "    </tr>\n",
       "    <tr>\n",
       "      <th>6</th>\n",
       "      <td>25</td>\n",
       "      <td>0.531111</td>\n",
       "    </tr>\n",
       "    <tr>\n",
       "      <th>5</th>\n",
       "      <td>20</td>\n",
       "      <td>0.505657</td>\n",
       "    </tr>\n",
       "    <tr>\n",
       "      <th>4</th>\n",
       "      <td>10</td>\n",
       "      <td>0.462155</td>\n",
       "    </tr>\n",
       "    <tr>\n",
       "      <th>3</th>\n",
       "      <td>8</td>\n",
       "      <td>0.458249</td>\n",
       "    </tr>\n",
       "    <tr>\n",
       "      <th>2</th>\n",
       "      <td>4</td>\n",
       "      <td>0.417643</td>\n",
       "    </tr>\n",
       "    <tr>\n",
       "      <th>1</th>\n",
       "      <td>2</td>\n",
       "      <td>0.395623</td>\n",
       "    </tr>\n",
       "    <tr>\n",
       "      <th>0</th>\n",
       "      <td>1</td>\n",
       "      <td>0.366397</td>\n",
       "    </tr>\n",
       "  </tbody>\n",
       "</table>\n",
       "</div>"
      ],
      "text/plain": [
       "   leaf values  Accuracy scores\n",
       "7           35         0.552997\n",
       "8           45         0.549293\n",
       "9           55         0.549293\n",
       "6           25         0.531111\n",
       "5           20         0.505657\n",
       "4           10         0.462155\n",
       "3            8         0.458249\n",
       "2            4         0.417643\n",
       "1            2         0.395623\n",
       "0            1         0.366397"
      ]
     },
     "execution_count": 128,
     "metadata": {},
     "output_type": "execute_result"
    }
   ],
   "source": [
    "# Decision Tree\n",
    "# Create a pipeline with preprocessing and logistic regression\n",
    "dt_pipeline = Pipeline(\n",
    "    steps=[\n",
    "        ('preprocessor', ct),\n",
    "        ('decision_tree', DecisionTreeClassifier())\n",
    "    ]\n",
    ")\n",
    "\n",
    "# Extract the list of 'min_samples_leaf' values from the parameter grid\n",
    "min_samples_leaf = [1, 2, 4, 8, 10, 20, 25, 35, 45, 55]\n",
    "\n",
    "leaf_param = {'decision_tree__min_samples_leaf': min_samples_leaf}\n",
    "\n",
    "# Create GridSearchCV\n",
    "gscv = GridSearchCV(dt_pipeline, leaf_param, cv=5, scoring='accuracy')\n",
    "gscv_fitted = gscv.fit(X, y)\n",
    "\n",
    "# Get Accuracy Score\n",
    "accuracy_scores = gscv_fitted.cv_results_['mean_test_score']\n",
    "\n",
    "dt_results_df = pd.DataFrame(data={\"leaf values\": min_samples_leaf, \"Accuracy scores\": accuracy_scores})\n",
    "\n",
    "dt_results_df_sorted = dt_results_df.sort_values(by = \"Accuracy scores\", ascending = False)\n",
    "dt_results_df_sorted"
   ]
  },
  {
   "cell_type": "code",
   "execution_count": 129,
   "metadata": {},
   "outputs": [
    {
     "name": "stdout",
     "output_type": "stream",
     "text": [
      "Decision Tree Accuracy: 0.5529966329966329\n"
     ]
    }
   ],
   "source": [
    "#Using optimal minsamplesleaf = 35\n",
    "\n",
    "best_dt_pipeline = Pipeline([\n",
    "    (\"preprocessing\", ct),\n",
    "    (\"decision_tree\", DecisionTreeClassifier(min_samples_leaf=35))\n",
    "])\n",
    "\n",
    "#Fit on data\n",
    "best_dt_model = best_dt_pipeline.fit(X,y)\n",
    "\n",
    "#Get AUC ROC score\n",
    "scores_dt = cross_val_score(best_dt_pipeline, X, y, cv=5, scoring='accuracy')\n",
    "\n",
    "dt_acc = scores_dt.mean()\n",
    "\n",
    "print(f\"Decision Tree Accuracy: {dt_acc}\")"
   ]
  },
  {
   "cell_type": "code",
   "execution_count": 130,
   "metadata": {},
   "outputs": [
    {
     "data": {
      "image/png": "[encoded data removed]",
      "text/plain": [
       "<Figure size 1200x800 with 1 Axes>"
      ]
     },
     "metadata": {},
     "output_type": "display_data"
    }
   ],
   "source": [
    "# Extract the decision tree model from the pipeline\n",
    "decision_tree_model = best_dt_pipeline.named_steps['decision_tree']\n",
    "\n",
    "# Convert feature names from pandas Index to list\n",
    "feature_names_list = X.columns.tolist()\n",
    "\n",
    "# Specify class names (if known) or set to None\n",
    "# Example for binary classification: [\"Class 0\", \"Class 1\"]\n",
    "# Replace with your actual class names or set class_names_list = None\n",
    "class_names_list = [\"0: asymptomatic\", \"1: typical angina\", \"2: atypical angina\", \"3: non-anginal pain\"]\n",
    "\n",
    "# Plot the decision tree\n",
    "plt.figure(figsize=(12, 8))  # Set the size of the figure\n",
    "plot_tree(decision_tree_model, \n",
    "          filled=True, \n",
    "          feature_names=feature_names_list,\n",
    "          class_names=class_names_list,\n",
    "          rounded=True)\n",
    "plt.show()"
   ]
  },
  {
   "cell_type": "markdown",
   "metadata": {},
   "source": [
    "The first split occurs for output less than or equal to 0.5. This is the predicted probability of being diagnosed with heart disease or not. The next splits then occcur at maximum heart rates achieved during excersize."
   ]
  },
  {
   "cell_type": "markdown",
   "metadata": {},
   "source": [
    "# LDA"
   ]
  },
  {
   "cell_type": "code",
   "execution_count": 131,
   "metadata": {},
   "outputs": [
    {
     "name": "stdout",
     "output_type": "stream",
     "text": [
      "LDA Accuracy: 0.5424242424242424\n"
     ]
    }
   ],
   "source": [
    "# Create a pipeline with preprocessing and logistic regression\n",
    "lda_pipeline = Pipeline(\n",
    "    steps=[\n",
    "        ('preprocessor', ct),\n",
    "        ('LDA', LinearDiscriminantAnalysis())\n",
    "    ]\n",
    ")\n",
    "\n",
    "#Fit on data\n",
    "lda_pipeline_fitted = lda_pipeline.fit(X, y)\n",
    "\n",
    "#Get AUC ROC score\n",
    "lda_scores = cross_val_score(lda_pipeline_fitted, X, y, cv=5, scoring='accuracy')\n",
    "\n",
    "lda_acc = lda_scores.mean()\n",
    "\n",
    "print(f\"LDA Accuracy: {lda_acc}\")"
   ]
  },
  {
   "cell_type": "markdown",
   "metadata": {
    "id": "gYqpOtbO1EAJ"
   },
   "source": [
    "## Q2:  OvR\n",
    "\n",
    "Create a new column in the `ha` dataset called `cp_is_3`, which is equal to `1` if the `cp` variable is equal to `3` and `0` otherwise.\n",
    "\n",
    "Then, fit a Logistic Regression to predict this new target, and report the **F1 Score**.\n",
    "\n",
    "Repeat for the other three `cp` categories.  Which category was the OvR approach best at distinguishing?"
   ]
  },
  {
   "cell_type": "code",
   "execution_count": 132,
   "metadata": {
    "id": "90PfjsjW1T2Y"
   },
   "outputs": [
    {
     "data": {
      "text/html": [
       "<div>\n",
       "<style scoped>\n",
       "    .dataframe tbody tr th:only-of-type {\n",
       "        vertical-align: middle;\n",
       "    }\n",
       "\n",
       "    .dataframe tbody tr th {\n",
       "        vertical-align: top;\n",
       "    }\n",
       "\n",
       "    .dataframe thead th {\n",
       "        text-align: right;\n",
       "    }\n",
       "</style>\n",
       "<table border=\"1\" class=\"dataframe\">\n",
       "  <thead>\n",
       "    <tr style=\"text-align: right;\">\n",
       "      <th></th>\n",
       "      <th>age</th>\n",
       "      <th>sex</th>\n",
       "      <th>cp</th>\n",
       "      <th>trtbps</th>\n",
       "      <th>chol</th>\n",
       "      <th>restecg</th>\n",
       "      <th>thalach</th>\n",
       "      <th>output</th>\n",
       "      <th>cp_is_3</th>\n",
       "      <th>cp_is_0</th>\n",
       "      <th>cp_is_1</th>\n",
       "      <th>cp_is_2</th>\n",
       "    </tr>\n",
       "  </thead>\n",
       "  <tbody>\n",
       "    <tr>\n",
       "      <th>0</th>\n",
       "      <td>63</td>\n",
       "      <td>1</td>\n",
       "      <td>3</td>\n",
       "      <td>145</td>\n",
       "      <td>233</td>\n",
       "      <td>0</td>\n",
       "      <td>150</td>\n",
       "      <td>1</td>\n",
       "      <td>1</td>\n",
       "      <td>0</td>\n",
       "      <td>0</td>\n",
       "      <td>0</td>\n",
       "    </tr>\n",
       "    <tr>\n",
       "      <th>1</th>\n",
       "      <td>37</td>\n",
       "      <td>1</td>\n",
       "      <td>2</td>\n",
       "      <td>130</td>\n",
       "      <td>250</td>\n",
       "      <td>1</td>\n",
       "      <td>187</td>\n",
       "      <td>1</td>\n",
       "      <td>0</td>\n",
       "      <td>0</td>\n",
       "      <td>0</td>\n",
       "      <td>1</td>\n",
       "    </tr>\n",
       "    <tr>\n",
       "      <th>2</th>\n",
       "      <td>56</td>\n",
       "      <td>1</td>\n",
       "      <td>1</td>\n",
       "      <td>120</td>\n",
       "      <td>236</td>\n",
       "      <td>1</td>\n",
       "      <td>178</td>\n",
       "      <td>1</td>\n",
       "      <td>0</td>\n",
       "      <td>0</td>\n",
       "      <td>1</td>\n",
       "      <td>0</td>\n",
       "    </tr>\n",
       "    <tr>\n",
       "      <th>3</th>\n",
       "      <td>57</td>\n",
       "      <td>0</td>\n",
       "      <td>0</td>\n",
       "      <td>120</td>\n",
       "      <td>354</td>\n",
       "      <td>1</td>\n",
       "      <td>163</td>\n",
       "      <td>1</td>\n",
       "      <td>0</td>\n",
       "      <td>1</td>\n",
       "      <td>0</td>\n",
       "      <td>0</td>\n",
       "    </tr>\n",
       "    <tr>\n",
       "      <th>4</th>\n",
       "      <td>57</td>\n",
       "      <td>1</td>\n",
       "      <td>0</td>\n",
       "      <td>140</td>\n",
       "      <td>192</td>\n",
       "      <td>1</td>\n",
       "      <td>148</td>\n",
       "      <td>1</td>\n",
       "      <td>0</td>\n",
       "      <td>1</td>\n",
       "      <td>0</td>\n",
       "      <td>0</td>\n",
       "    </tr>\n",
       "  </tbody>\n",
       "</table>\n",
       "</div>"
      ],
      "text/plain": [
       "   age  sex  cp  trtbps  chol  restecg  thalach  output cp_is_3 cp_is_0  \\\n",
       "0   63    1   3     145   233        0      150       1       1       0   \n",
       "1   37    1   2     130   250        1      187       1       0       0   \n",
       "2   56    1   1     120   236        1      178       1       0       0   \n",
       "3   57    0   0     120   354        1      163       1       0       1   \n",
       "4   57    1   0     140   192        1      148       1       0       1   \n",
       "\n",
       "  cp_is_1 cp_is_2  \n",
       "0       0       0  \n",
       "1       0       1  \n",
       "2       1       0  \n",
       "3       0       0  \n",
       "4       0       0  "
      ]
     },
     "execution_count": 132,
     "metadata": {},
     "output_type": "execute_result"
    }
   ],
   "source": [
    "# Create new column\n",
    "heart_data['cp_is_3'] = np.where(heart_data['cp'] == 3, 1, 0).astype(int)\n",
    "heart_data['cp_is_3'] = heart_data['cp_is_3'].astype(\"category\")\n",
    "\n",
    "heart_data['cp_is_0'] = np.where(heart_data['cp'] == 0, 1, 0).astype(int)\n",
    "heart_data['cp_is_0'] = heart_data['cp_is_0'].astype(\"category\")\n",
    "\n",
    "heart_data['cp_is_1'] = np.where(heart_data['cp'] == 1, 1, 0).astype(int)\n",
    "heart_data['cp_is_1'] = heart_data['cp_is_1'].astype(\"category\")\n",
    "\n",
    "heart_data['cp_is_2'] = np.where(heart_data['cp'] == 2, 1, 0).astype(int)\n",
    "heart_data['cp_is_2'] = heart_data['cp_is_2'].astype(\"category\")\n",
    "\n",
    "heart_data.head()"
   ]
  },
  {
   "cell_type": "code",
   "execution_count": 133,
   "metadata": {},
   "outputs": [],
   "source": [
    "from sklearn.metrics import f1_score, make_scorer\n",
    "\n",
    "ct = ColumnTransformer(\n",
    "    [\n",
    "        (\"dummify\", OneHotEncoder(sparse_output=False, handle_unknown='ignore'), \n",
    "         make_column_selector(dtype_include=['category', 'object']))      \n",
    "    ],\n",
    "    remainder=\"passthrough\"\n",
    ")"
   ]
  },
  {
   "cell_type": "code",
   "execution_count": 134,
   "metadata": {},
   "outputs": [
    {
     "name": "stdout",
     "output_type": "stream",
     "text": [
      "cp_is_3, Logistic Regression F1 Score: 0.4799787225048261\n"
     ]
    }
   ],
   "source": [
    "# Select features and target\n",
    "X = heart_data.drop([\"cp_is_0\", \"cp_is_1\", \"cp_is_2\", \"cp_is_3\", \"cp\"], axis = 1)\n",
    "y = heart_data['cp_is_3']\n",
    "\n",
    "# Logistic regression pipeline\n",
    "lr_pipeline = Pipeline([\n",
    "    (\"preprocessing\", ct),\n",
    "    (\"logistic_regression\", LogisticRegression(max_iter = 10000))\n",
    "])\n",
    "\n",
    "# Fit on training data\n",
    "lr_pipeline_fitted = lr_pipeline.fit(X,y)\n",
    "\n",
    "# Get F1 score\n",
    "lr_scores = cross_val_score(lr_pipeline_fitted, X, y, cv=5, scoring='f1_macro')\n",
    "\n",
    "lr_f1 = lr_scores.mean()\n",
    "\n",
    "print(f\"cp_is_3, Logistic Regression F1 Score: {lr_f1}\")"
   ]
  },
  {
   "cell_type": "code",
   "execution_count": 135,
   "metadata": {},
   "outputs": [
    {
     "name": "stdout",
     "output_type": "stream",
     "text": [
      "cp_is_2, Logistic Regression F1 Score: 0.4349072441505822\n"
     ]
    }
   ],
   "source": [
    "#cp_is_2\n",
    "# Select features and target\n",
    "X = heart_data.drop([\"cp_is_0\", \"cp_is_1\", \"cp_is_2\", \"cp_is_3\", \"cp\"], axis = 1)\n",
    "y = heart_data['cp_is_2']\n",
    "\n",
    "# Fit on training data\n",
    "lr_pipeline_fitted = lr_pipeline.fit(X,y)\n",
    "\n",
    "# Get F1 score\n",
    "lr_scores = cross_val_score(lr_pipeline_fitted, X, y, cv=5, scoring='f1_macro')\n",
    "\n",
    "lr_f1 = lr_scores.mean()\n",
    "\n",
    "print(f\"cp_is_2, Logistic Regression F1 Score: {lr_f1}\")"
   ]
  },
  {
   "cell_type": "code",
   "execution_count": 136,
   "metadata": {},
   "outputs": [
    {
     "name": "stdout",
     "output_type": "stream",
     "text": [
      "cp_is_1, Logistic Regression F1 Score: 0.45284241077168935\n"
     ]
    }
   ],
   "source": [
    "#cp_is_1\n",
    "# Select features and target\n",
    "X = heart_data.drop([\"cp_is_0\", \"cp_is_1\", \"cp_is_2\", \"cp_is_3\", \"cp\"], axis = 1)\n",
    "y = heart_data['cp_is_1']\n",
    "\n",
    "# Fit on training data\n",
    "lr_pipeline_fitted = lr_pipeline.fit(X,y)\n",
    "\n",
    "# Get F1 score\n",
    "lr_scores = cross_val_score(lr_pipeline_fitted, X, y, cv=5, scoring='f1_macro')\n",
    "\n",
    "lr_f1 = lr_scores.mean()\n",
    "\n",
    "print(f\"cp_is_1, Logistic Regression F1 Score: {lr_f1}\")"
   ]
  },
  {
   "cell_type": "code",
   "execution_count": 137,
   "metadata": {},
   "outputs": [
    {
     "name": "stdout",
     "output_type": "stream",
     "text": [
      "cp_is_0, Logistic Regression F1 Score: 0.6615773215824161\n"
     ]
    }
   ],
   "source": [
    "#cp_is_0\n",
    "# Select features and target\n",
    "X = heart_data.drop([\"cp_is_0\", \"cp_is_1\", \"cp_is_2\", \"cp_is_3\", \"cp\"], axis = 1)\n",
    "y = heart_data['cp_is_0']\n",
    "\n",
    "# Fit model\n",
    "lr_pipeline_fitted = lr_pipeline.fit(X,y)\n",
    "\n",
    "# Get F1 score\n",
    "lr_scores = cross_val_score(lr_pipeline_fitted, X, y, cv=5, scoring='f1_macro')\n",
    "\n",
    "lr_f1 = lr_scores.mean()\n",
    "\n",
    "print(f\"cp_is_0, Logistic Regression F1 Score: {lr_f1}\")"
   ]
  },
  {
   "cell_type": "markdown",
   "metadata": {},
   "source": [
    "The OvR approach was best at distinguishing categories 0."
   ]
  },
  {
   "cell_type": "markdown",
   "metadata": {
    "id": "lXO3jbTU1ULR"
   },
   "source": [
    "## Q3: OvO\n",
    "\n",
    "Reduce your dataset to only the `0` and `1` types of chest pain.\n",
    "\n",
    "Then, fit a Logistic Regression to predict between the two groups, and report the **ROC-AUC**.  \n",
    "\n",
    "Repeat comparing category `0` to `2` and `3`.  Which pair was the OvO approach best at distinguishing?"
   ]
  },
  {
   "cell_type": "code",
   "execution_count": 138,
   "metadata": {},
   "outputs": [],
   "source": [
    "# Reduce to 0 and 1\n",
    "zero_one_df = heart_data[heart_data['cp'].isin([0,1])]"
   ]
  },
  {
   "cell_type": "code",
   "execution_count": 139,
   "metadata": {
    "id": "THrjnRoV1siy"
   },
   "outputs": [
    {
     "name": "stdout",
     "output_type": "stream",
     "text": [
      "0 & 1, Logistic Regression ROC AUC: 0.8352735042735043\n"
     ]
    }
   ],
   "source": [
    "# Select features and target\n",
    "X = zero_one_df.drop([\"cp_is_0\", \"cp_is_1\", \"cp_is_2\", \"cp_is_3\", \"cp\"], axis = 1)\n",
    "y = zero_one_df['cp']\n",
    "\n",
    "# fit model\n",
    "lr_pipeline_fitted = lr_pipeline.fit(X, y)\n",
    "\n",
    "#AUC\n",
    "scores1 = cross_val_score(lr_pipeline_fitted, X, y, cv=5, scoring='roc_auc')\n",
    "score1 = scores1.mean()\n",
    "\n",
    "print(f\"0 & 1, Logistic Regression ROC AUC: {score1}\")"
   ]
  },
  {
   "cell_type": "code",
   "execution_count": 140,
   "metadata": {},
   "outputs": [],
   "source": [
    "# Reduce to 0 and 2\n",
    "zero_two_df = heart_data[heart_data['cp'].isin([0,2])]"
   ]
  },
  {
   "cell_type": "code",
   "execution_count": 141,
   "metadata": {},
   "outputs": [
    {
     "name": "stdout",
     "output_type": "stream",
     "text": [
      "0 & 2, Logistic Regression ROC AUC: 0.7485916289592761\n"
     ]
    }
   ],
   "source": [
    "# Select features and target\n",
    "X = zero_two_df.drop([\"cp_is_0\", \"cp_is_1\", \"cp_is_2\", \"cp_is_3\", \"cp\"], axis = 1)\n",
    "y = zero_two_df['cp']\n",
    "\n",
    "# fit model\n",
    "lr_pipeline_fitted = lr_pipeline.fit(X, y)\n",
    "\n",
    "#AUC\n",
    "scores2 = cross_val_score(lr_pipeline_fitted, X, y, cv=5, scoring='roc_auc')\n",
    "score2 = scores2.mean()\n",
    "\n",
    "print(f\"0 & 2, Logistic Regression ROC AUC: {score2}\")"
   ]
  },
  {
   "cell_type": "code",
   "execution_count": 142,
   "metadata": {},
   "outputs": [],
   "source": [
    "# Reduce to 0 and 3\n",
    "zero_three_df = heart_data[heart_data['cp'].isin([0,3])]"
   ]
  },
  {
   "cell_type": "code",
   "execution_count": 143,
   "metadata": {},
   "outputs": [
    {
     "name": "stdout",
     "output_type": "stream",
     "text": [
      "0 & 3, Logistic Regression ROC AUC: 0.7296153846153848\n"
     ]
    }
   ],
   "source": [
    "# Select features and target\n",
    "X = zero_three_df.drop([\"cp_is_0\", \"cp_is_1\", \"cp_is_2\", \"cp_is_3\", \"cp\"], axis = 1)\n",
    "y = zero_three_df['cp']\n",
    "\n",
    "# fit model\n",
    "lr_pipeline_fitted = lr_pipeline.fit(X, y)\n",
    "\n",
    "#AUC\n",
    "scores3 = cross_val_score(lr_pipeline_fitted, X, y, cv=5, scoring='roc_auc')\n",
    "score3 = scores3.mean()\n",
    "\n",
    "print(f\"0 & 3, Logistic Regression ROC AUC: {score3}\")"
   ]
  },
  {
   "cell_type": "markdown",
   "metadata": {},
   "source": [
    "The best OvO approach was between 0 and 1."
   ]
  }
 ],
 "metadata": {
  "colab": {
   "provenance": []
  },
  "kernelspec": {
   "display_name": "Python 3 (ipykernel)",
   "language": "python",
   "name": "python3"
  },
  "language_info": {
   "codemirror_mode": {
    "name": "ipython",
    "version": 3
   },
   "file_extension": ".py",
   "mimetype": "text/x-python",
   "name": "python",
   "nbconvert_exporter": "python",
   "pygments_lexer": "ipython3",
   "version": "3.11.4"
  }
 },
 "nbformat": 4,
 "nbformat_minor": 1
}
