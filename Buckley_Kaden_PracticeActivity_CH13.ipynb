{
 "cells": [
  {
   "cell_type": "markdown",
   "metadata": {
    "id": "VP5oFtVLdPcx"
   },
   "source": [
    "# Activity 7.1\n",
    "### Kaden Buckley"
   ]
  },
  {
   "cell_type": "code",
   "execution_count": 101,
   "metadata": {},
   "outputs": [],
   "source": [
    "import pandas as pd\n",
    "import numpy as np\n",
    "from sklearn.pipeline import Pipeline\n",
    "from sklearn.compose import make_column_selector, ColumnTransformer\n",
    "from sklearn.preprocessing import StandardScaler, OneHotEncoder, PolynomialFeatures\n",
    "from sklearn.linear_model import LinearRegression, Ridge, Lasso, ElasticNet \n",
    "from sklearn.model_selection import train_test_split, cross_val_score, GridSearchCV\n",
    "from sklearn.metrics import r2_score, mean_squared_error\n",
    "from plotnine import *"
   ]
  },
  {
   "cell_type": "code",
   "execution_count": 21,
   "metadata": {},
   "outputs": [],
   "source": [
    "#Load ames data\n",
    "ames = pd.read_csv(\"/Users/kadenbuckley/Desktop/MSBA/Fall_Quarter/GSB_544/Data/AmesHousing.csv\")\n",
    "\n",
    "#Rename columns\n",
    "ames_clean = ames.rename(columns = {'Gr Liv Area': 'Size',\n",
    "                                    'TotRms AbvGrd': 'Num_Rooms',\n",
    "                                    'Bldg Type': 'Building_Type'\n",
    "                                   })\n",
    "\n",
    "X = ames_clean.drop(\"SalePrice\", axis =1)\n",
    "y = ames_clean[\"SalePrice\"]\n",
    "\n",
    "#Split Data\n",
    "X_train, X_test, y_train, y_test = train_test_split(X, y)"
   ]
  },
  {
   "cell_type": "markdown",
   "metadata": {},
   "source": [
    "# Part 1: Pipelines"
   ]
  },
  {
   "cell_type": "markdown",
   "metadata": {
    "id": "cT2gEklKcw1y"
   },
   "source": [
    "Consider four possible models for predicting house prices:\n",
    "\n",
    "- 1.) Using only the size and number of rooms.\n",
    "- 2.) Using size, number of rooms, and building type.\n",
    "- 3.) Using size and building type, and their interaction.\n",
    "- 4.) Using a 5-degree polynomial on size, a 5-degree polynomial on number of rooms, and also building type.\n",
    "\n",
    "Set up a pipeline for each of these four models.\n",
    "\n",
    "Then, get predictions on the test set for each of your pipelines, and compute the root mean squared error. Which model performed best?\n",
    "\n",
    "Note: You should only use the function train_test_split() one time in your code; that is, we should be predicting on the same test set for all three models."
   ]
  },
  {
   "cell_type": "markdown",
   "metadata": {},
   "source": [
    "## Model 1: Size & Number of Rooms"
   ]
  },
  {
   "cell_type": "code",
   "execution_count": 95,
   "metadata": {},
   "outputs": [],
   "source": [
    "#Model 1 Column Transformer\n",
    "ct_1 = ColumnTransformer(\n",
    "  [\n",
    "    (\"dummify\", OneHotEncoder(sparse_output = False), []),\n",
    "    (\"standardize\", StandardScaler(), [\"Size\", \"Num_Rooms\"])\n",
    "  ],\n",
    "  remainder = \"drop\"\n",
    ")"
   ]
  },
  {
   "cell_type": "code",
   "execution_count": 96,
   "metadata": {},
   "outputs": [
    {
     "name": "stdout",
     "output_type": "stream",
     "text": [
      "RMSE of Model 1: 53527.75931385835\n"
     ]
    }
   ],
   "source": [
    "#Model 1 Pipeline\n",
    "lr_pipeline_1 = Pipeline(\n",
    "  [(\"preprocessing\", ct_1),\n",
    "  (\"linear_regression\", LinearRegression())\n",
    "   ]\n",
    ").set_output(transform=\"pandas\")\n",
    "\n",
    "#Fit linear pipeline\n",
    "lr_pipeline_1.fit(X_train, y_train)\n",
    "\n",
    "#Get predicitions\n",
    "model_1_predictions = lr_pipeline_1.predict(X_test)\n",
    "\n",
    "model_1_rmse = np.sqrt(mean_squared_error(y_test, model_1_predictions))\n",
    "\n",
    "print(f\"RMSE of Model 1: {model_1_rmse}\")"
   ]
  },
  {
   "cell_type": "markdown",
   "metadata": {},
   "source": [
    "## Model 2: Size, Number of Rooms, & Building Type"
   ]
  },
  {
   "cell_type": "code",
   "execution_count": 42,
   "metadata": {},
   "outputs": [],
   "source": [
    "#Model 2 Column Transformer\n",
    "ct_2 = ColumnTransformer(\n",
    "  [\n",
    "    (\"dummify\", OneHotEncoder(sparse_output = False), [\"Building_Type\"]),\n",
    "    (\"standardize\", StandardScaler(), [\"Size\", \"Num_Rooms\"])\n",
    "  ],\n",
    "  remainder = \"drop\"\n",
    ")"
   ]
  },
  {
   "cell_type": "code",
   "execution_count": 43,
   "metadata": {},
   "outputs": [
    {
     "name": "stdout",
     "output_type": "stream",
     "text": [
      "RMSE of Model 2: 51309.2585360023\n"
     ]
    }
   ],
   "source": [
    "#Model 2 Pipeline\n",
    "lr_pipeline_2 = Pipeline(\n",
    "  [(\"preprocessing\", ct_2),\n",
    "  (\"linear_regression\", LinearRegression())\n",
    "   ]\n",
    ").set_output(transform=\"pandas\")\n",
    "\n",
    "#Fit linear pipeline\n",
    "lr_pipeline_2.fit(X_train, y_train)\n",
    "\n",
    "#Get predicitions\n",
    "model_2_predictions = lr_pipeline_2.predict(X_test)\n",
    "\n",
    "model_2_rmse = np.sqrt(mean_squared_error(y_test, model_2_predictions))\n",
    "\n",
    "print(f\"RMSE of Model 2: {model_2_rmse}\")"
   ]
  },
  {
   "cell_type": "markdown",
   "metadata": {},
   "source": [
    "## Model 3: Size, Building Type, & Size * Building Type"
   ]
  },
  {
   "cell_type": "code",
   "execution_count": 64,
   "metadata": {},
   "outputs": [],
   "source": [
    "#Model 3 Column Transformer\n",
    "ct_dummies = ColumnTransformer(\n",
    "  [(\"dummify\", OneHotEncoder(sparse_output = False), [\"Building_Type\"]),\n",
    "   (\"standardize\", StandardScaler(), [\"Size\"])\n",
    "  ],\n",
    "  remainder = \"passthrough\"\n",
    ").set_output(transform = \"pandas\")\n",
    "\n",
    "X_train_dummified = ct_dummies.fit_transform(X_train)\n",
    "X_train_dummified.all()\n",
    "\n",
    "#Model 3 Interaction Column Transformer\n",
    "ct_interaction = ColumnTransformer(\n",
    "  [\n",
    "    (\"interaction\", PolynomialFeatures(interaction_only = True), [\"remainder__Num_Rooms\", \"dummify__Building_Type_1Fam\"]),\n",
    "  ],\n",
    "  remainder = \"drop\"\n",
    ").set_output(transform = \"pandas\")"
   ]
  },
  {
   "cell_type": "code",
   "execution_count": 65,
   "metadata": {},
   "outputs": [
    {
     "name": "stdout",
     "output_type": "stream",
     "text": [
      "RMSE of Model 3: 62572.88242944864\n"
     ]
    }
   ],
   "source": [
    "lr_pipeline_3 = Pipeline(\n",
    "  [(\"preprocessing\", ct_dummies),\n",
    "   (\"interaction\", ct_interaction),\n",
    "  (\"linear_regression\", LinearRegression())]\n",
    ").set_output(transform=\"pandas\")\n",
    "\n",
    "lr_pipeline_3.fit(X_train, y_train)\n",
    "\n",
    "#Get predicitions\n",
    "model_3_predictions = lr_pipeline_3.predict(X_test)\n",
    "\n",
    "model_3_rmse = np.sqrt(mean_squared_error(y_test, model_3_predictions))\n",
    "\n",
    "print(f\"RMSE of Model 3: {model_3_rmse}\")"
   ]
  },
  {
   "cell_type": "markdown",
   "metadata": {},
   "source": [
    "## Model 4: 5-degree polynomial on size, a 5-degree polynomial on number of rooms, & building type."
   ]
  },
  {
   "cell_type": "code",
   "execution_count": 79,
   "metadata": {},
   "outputs": [],
   "source": [
    "#Model 4 Column Transformer\n",
    "ct_poly = ColumnTransformer(\n",
    "  [(\"dummify\", OneHotEncoder(sparse_output = False), [\"Building_Type\"]),\n",
    "   (\"polynomial transformer\", PolynomialFeatures(degree = 5), [\"Size\", \"Num_Rooms\"]),\n",
    "  ],\n",
    "  remainder = \"drop\"\n",
    ").set_output(transform = \"pandas\")"
   ]
  },
  {
   "cell_type": "code",
   "execution_count": 80,
   "metadata": {},
   "outputs": [
    {
     "name": "stdout",
     "output_type": "stream",
     "text": [
      "RMSE of Model 4: 53604.84193219687\n"
     ]
    }
   ],
   "source": [
    "#Model 4 Pipeline\n",
    "lr_pipeline_4 = Pipeline(\n",
    "    [\n",
    "        (\"preprocessing\", ct_poly),\n",
    "        (\"linear_regression\", LinearRegression())\n",
    "    ]\n",
    ").set_output(transform = \"pandas\")\n",
    "\n",
    "lr_pipeline_4.fit(X_train, y_train)\n",
    "\n",
    "#Get predicitions\n",
    "model_4_predictions = lr_pipeline_4.predict(X_test)\n",
    "\n",
    "model_4_rmse = np.sqrt(mean_squared_error(y_test, model_4_predictions))\n",
    "\n",
    "print(f\"RMSE of Model 4: {model_4_rmse}\")"
   ]
  },
  {
   "cell_type": "markdown",
   "metadata": {},
   "source": [
    "## Model Comparison"
   ]
  },
  {
   "cell_type": "code",
   "execution_count": 93,
   "metadata": {},
   "outputs": [
    {
     "name": "stdout",
     "output_type": "stream",
     "text": [
      "     Model          RMSE\n",
      "1  Model_2  51309.258536\n",
      "0  Model 1  53527.759314\n",
      "3  Model_4  53604.841932\n",
      "2  Model_3  62572.882429\n"
     ]
    }
   ],
   "source": [
    "#Create Results Dataframe\n",
    "model_results = pd.DataFrame({'Model': [\"Model 1\", \"Model_2\", \"Model_3\", \"Model_4\"], 'RMSE': [model_1_rmse, model_2_rmse, model_3_rmse, model_4_rmse]})\n",
    "\n",
    "model_results = model_results.sort_values(by='RMSE', ascending=True)\n",
    "print(model_results)"
   ]
  },
  {
   "cell_type": "markdown",
   "metadata": {},
   "source": [
    "The sorted dataframe above contains each of the four model's RMSE values. Model 2, using Size, Number of Rooms, & Building Type, performed the best, as it has the lowest RMSE value."
   ]
  },
  {
   "cell_type": "markdown",
   "metadata": {},
   "source": [
    "# Part 2: Cross-Validation"
   ]
  },
  {
   "cell_type": "markdown",
   "metadata": {},
   "source": [
    "Once again consider four modeling options for house price:\n",
    "\n",
    "- 1.) Using only the size and number of rooms.\n",
    "\n",
    "- 2.) Using size, number of rooms, and building type.\n",
    "\n",
    "- 3.) Using size and building type, and their interaction.\n",
    "\n",
    "- 4.) Using a 5-degree polynomial on size, a 5-degree polynomial on number of rooms, and also building type.\n",
    "\n",
    "Use cross_val_score with the pipelines you made earlier to find the cross-validated root mean squared error for each model.\n",
    "\n",
    "Which do you prefer? Does this agree with your conclusion from earlier?"
   ]
  },
  {
   "cell_type": "code",
   "execution_count": 100,
   "metadata": {},
   "outputs": [
    {
     "name": "stdout",
     "output_type": "stream",
     "text": [
      "     Model       CV RMSE\n",
      "1  Model_2  54156.048470\n",
      "0  Model 1  55806.326349\n",
      "3  Model_4  61197.680682\n",
      "2  Model_3  65218.895416\n"
     ]
    }
   ],
   "source": [
    "#Model 1\n",
    "scores_1 = cross_val_score(lr_pipeline_1, X, y, cv=5, scoring='neg_mean_squared_error')\n",
    "scores_1_squared = np.sqrt(-scores_1)\n",
    "rmse_1 = scores_1_squared.mean()\n",
    "rmse_1\n",
    "\n",
    "#Model 2\n",
    "scores_2 = cross_val_score(lr_pipeline_2, X, y, cv=5, scoring='neg_mean_squared_error')\n",
    "scores_2_squared = np.sqrt(-scores_2)\n",
    "rmse_2 = scores_2_squared.mean()\n",
    "rmse_2\n",
    "\n",
    "#Model 3\n",
    "scores_3 = cross_val_score(lr_pipeline_3, X, y, cv=5, scoring='neg_mean_squared_error')\n",
    "scores_3_squared = np.sqrt(-scores_3)\n",
    "rmse_3 = scores_3_squared.mean()\n",
    "rmse_3\n",
    "\n",
    "#Model 4\n",
    "scores_4 = cross_val_score(lr_pipeline_4, X, y, cv=5, scoring='neg_mean_squared_error')\n",
    "scores_4_squared = np.sqrt(-scores_4)\n",
    "rmse_4 = scores_4_squared.mean()\n",
    "rmse_4\n",
    "\n",
    "#Create CV Results Dataframe\n",
    "model_cv_results = pd.DataFrame({'Model': [\"Model 1\", \"Model_2\", \"Model_3\", \"Model_4\"], 'CV RMSE': [rmse_1, rmse_2, rmse_3, rmse_4]})\n",
    "\n",
    "model_cv_results = model_cv_results.sort_values(by='CV RMSE', ascending=True)\n",
    "print(model_cv_results)"
   ]
  },
  {
   "cell_type": "markdown",
   "metadata": {},
   "source": [
    "The sorted dataframe above contains each of the four model's RMSE values found by using the cross_val_score method. Model 2, still performed the best, as it has the lowest RMSE value."
   ]
  },
  {
   "cell_type": "markdown",
   "metadata": {},
   "source": [
    "# Part 3: GridSearchCV"
   ]
  },
  {
   "cell_type": "markdown",
   "metadata": {},
   "source": [
    "Consider one hundred modeling options for house price:\n",
    "\n",
    "- House size, trying degrees 1 through 10\n",
    "- Number of rooms, trying degrees 1 through 10\n",
    "- Building Type\n",
    "- Hint: The dictionary of possible values that you make to give to GridSearchCV will have two elements instead of one.\n",
    "\n",
    "**Q1:** Which model performed the best?\n",
    "\n",
    "**Q2:** What downsides do you see of trying all possible model options? How might you go about choosing a smaller number of tuning values to try?"
   ]
  },
  {
   "cell_type": "code",
   "execution_count": 145,
   "metadata": {},
   "outputs": [
    {
     "data": {
      "text/html": [
       "<div>\n",
       "<style scoped>\n",
       "    .dataframe tbody tr th:only-of-type {\n",
       "        vertical-align: middle;\n",
       "    }\n",
       "\n",
       "    .dataframe tbody tr th {\n",
       "        vertical-align: top;\n",
       "    }\n",
       "\n",
       "    .dataframe thead th {\n",
       "        text-align: right;\n",
       "    }\n",
       "</style>\n",
       "<table border=\"1\" class=\"dataframe\">\n",
       "  <thead>\n",
       "    <tr style=\"text-align: right;\">\n",
       "      <th></th>\n",
       "      <th>size_degrees</th>\n",
       "      <th>rooms_degrees</th>\n",
       "      <th>scores</th>\n",
       "    </tr>\n",
       "  </thead>\n",
       "  <tbody>\n",
       "    <tr>\n",
       "      <th>2</th>\n",
       "      <td>3</td>\n",
       "      <td>1</td>\n",
       "      <td>0.557875</td>\n",
       "    </tr>\n",
       "    <tr>\n",
       "      <th>12</th>\n",
       "      <td>3</td>\n",
       "      <td>2</td>\n",
       "      <td>0.557099</td>\n",
       "    </tr>\n",
       "    <tr>\n",
       "      <th>33</th>\n",
       "      <td>4</td>\n",
       "      <td>4</td>\n",
       "      <td>0.557097</td>\n",
       "    </tr>\n",
       "    <tr>\n",
       "      <th>43</th>\n",
       "      <td>4</td>\n",
       "      <td>5</td>\n",
       "      <td>0.555479</td>\n",
       "    </tr>\n",
       "    <tr>\n",
       "      <th>22</th>\n",
       "      <td>3</td>\n",
       "      <td>3</td>\n",
       "      <td>0.554256</td>\n",
       "    </tr>\n",
       "    <tr>\n",
       "      <th>...</th>\n",
       "      <td>...</td>\n",
       "      <td>...</td>\n",
       "      <td>...</td>\n",
       "    </tr>\n",
       "    <tr>\n",
       "      <th>39</th>\n",
       "      <td>10</td>\n",
       "      <td>4</td>\n",
       "      <td>-567.299824</td>\n",
       "    </tr>\n",
       "    <tr>\n",
       "      <th>59</th>\n",
       "      <td>10</td>\n",
       "      <td>6</td>\n",
       "      <td>-572.953090</td>\n",
       "    </tr>\n",
       "    <tr>\n",
       "      <th>49</th>\n",
       "      <td>10</td>\n",
       "      <td>5</td>\n",
       "      <td>-584.037138</td>\n",
       "    </tr>\n",
       "    <tr>\n",
       "      <th>89</th>\n",
       "      <td>10</td>\n",
       "      <td>9</td>\n",
       "      <td>-587.625230</td>\n",
       "    </tr>\n",
       "    <tr>\n",
       "      <th>99</th>\n",
       "      <td>10</td>\n",
       "      <td>10</td>\n",
       "      <td>-1669.113377</td>\n",
       "    </tr>\n",
       "  </tbody>\n",
       "</table>\n",
       "<p>100 rows × 3 columns</p>\n",
       "</div>"
      ],
      "text/plain": [
       "    size_degrees  rooms_degrees       scores\n",
       "2              3              1     0.557875\n",
       "12             3              2     0.557099\n",
       "33             4              4     0.557097\n",
       "43             4              5     0.555479\n",
       "22             3              3     0.554256\n",
       "..           ...            ...          ...\n",
       "39            10              4  -567.299824\n",
       "59            10              6  -572.953090\n",
       "49            10              5  -584.037138\n",
       "89            10              9  -587.625230\n",
       "99            10             10 -1669.113377\n",
       "\n",
       "[100 rows x 3 columns]"
      ]
     },
     "execution_count": 145,
     "metadata": {},
     "output_type": "execute_result"
    }
   ],
   "source": [
    "#Column Transformer\n",
    "ct_poly = ColumnTransformer(\n",
    "  [(\"dummify\", OneHotEncoder(sparse_output = False), [\"Building_Type\"]),\n",
    "   (\"polynomial_size\", PolynomialFeatures(), [\"Size\"]),\n",
    "   (\"polynomial_rooms\", PolynomialFeatures(), [\"Num_Rooms\"])\n",
    "  ],\n",
    "  remainder = \"drop\"\n",
    ").set_output(transform = \"pandas\")\n",
    "\n",
    "#Pipeline\n",
    "lr_pipeline_poly = Pipeline(\n",
    "    [\n",
    "    (\"preprocessing\", ct_poly),\n",
    "    (\"standardize\", StandardScaler()),\n",
    "    (\"linear_regression\", LinearRegression())]\n",
    ").set_output(transform = \"pandas\")\n",
    "\n",
    "degrees = {'preprocessing__polynomial_size__degree': np.arange(1, 11),\n",
    "          'preprocessing__polynomial_rooms__degree': np.arange(1, 11)\n",
    "          }\n",
    "\n",
    "gscv = GridSearchCV(lr_pipeline_poly, degrees, cv = 5, scoring = 'r2')\n",
    "\n",
    "#Fit grid search tuning procedure to the data\n",
    "gscv_fitted = gscv.fit(X, y)\n",
    "\n",
    "gscv_fitted.cv_results_['mean_test_score']\n",
    "\n",
    "#Extracting parameter settings and mean scores\n",
    "mean_scores = gscv_fitted.cv_results_['mean_test_score']\n",
    "size_degree = [params['preprocessing__polynomial_size__degree'] for params in gscv_fitted.cv_results_['params']]\n",
    "rooms_degree = [params['preprocessing__polynomial_rooms__degree'] for params in gscv_fitted.cv_results_['params']]\n",
    "\n",
    "#Creating a DataFrame with the results\n",
    "results_df = pd.DataFrame(data={\n",
    "    \"size_degrees\": size_degree,\n",
    "    \"rooms_degrees\": rooms_degree,\n",
    "    \"scores\": mean_scores\n",
    "})\n",
    "\n",
    "results_df = results_df.sort_values(by = \"scores\", ascending = False)\n",
    "results_df"
   ]
  },
  {
   "cell_type": "markdown",
   "metadata": {},
   "source": [
    "- **Q1:** According to the results, the model with size degrees 3 and rooms degree 1 performed the best. The r^2 score is 0.557875\n",
    "- **Q2:** Trying all possible model options creates tests a large quantity of models, and therefore the computer needs to work harder to obtain results. This results in up longer processing times than testing fewer models. We could limit the number of degrees, and overall quanitity of models, to speed up processing time."
   ]
  },
  {
   "cell_type": "code",
   "execution_count": null,
   "metadata": {},
   "outputs": [],
   "source": []
  }
 ],
 "metadata": {
  "colab": {
   "provenance": []
  },
  "kernelspec": {
   "display_name": "Python 3 (ipykernel)",
   "language": "python",
   "name": "python3"
  },
  "language_info": {
   "codemirror_mode": {
    "name": "ipython",
    "version": 3
   },
   "file_extension": ".py",
   "mimetype": "text/x-python",
   "name": "python",
   "nbconvert_exporter": "python",
   "pygments_lexer": "ipython3",
   "version": "3.11.4"
  }
 },
 "nbformat": 4,
 "nbformat_minor": 1
}
